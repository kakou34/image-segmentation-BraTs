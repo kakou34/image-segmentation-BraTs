{
  "nbformat": 4,
  "nbformat_minor": 0,
  "metadata": {
    "colab": {
      "name": "Brain_Tumour_Segmentation.ipynb",
      "provenance": [],
      "collapsed_sections": [
        "tRyroMMoVv5E",
        "C-caKgKaZm3Y",
        "8Zz0U08bbMtS",
        "KU2D0h2pTDki",
        "OLq0Fvx9VBEO",
        "F8BrQIjljdOh",
        "WxUNumWXrlR7"
      ]
    },
    "kernelspec": {
      "name": "python3",
      "display_name": "Python 3"
    },
    "language_info": {
      "name": "python"
    }
  },
  "cells": [
    {
      "cell_type": "code",
      "execution_count": 1,
      "metadata": {
        "id": "q54oD1l_DmFn",
        "colab": {
          "base_uri": "https://localhost:8080/"
        },
        "outputId": "a5a8fbaa-b0d6-4863-d5e2-3789ef65abed"
      },
      "outputs": [
        {
          "output_type": "stream",
          "name": "stdout",
          "text": [
            "Mounted at /content/drive\n"
          ]
        }
      ],
      "source": [
        " # --------   Mounting the Drive to access the Data\n",
        "from google.colab import drive\n",
        "drive.mount(\"/content/drive\")"
      ]
    },
    {
      "cell_type": "code",
      "source": [
        "# import warnings\n",
        "# warnings.filterwarnings('ignore')"
      ],
      "metadata": {
        "id": "cAfhcl6XDpct"
      },
      "execution_count": null,
      "outputs": []
    },
    {
      "cell_type": "markdown",
      "source": [
        "Libraries"
      ],
      "metadata": {
        "id": "nu3M7d8XTQAD"
      }
    },
    {
      "cell_type": "code",
      "source": [
        "pip install pydicom"
      ],
      "metadata": {
        "colab": {
          "base_uri": "https://localhost:8080/"
        },
        "id": "XXjGyD8FTbNs",
        "outputId": "111af9b4-b2f5-45b4-a585-670b7010c8c6"
      },
      "execution_count": 2,
      "outputs": [
        {
          "output_type": "stream",
          "name": "stdout",
          "text": [
            "Collecting pydicom\n",
            "  Downloading pydicom-2.2.2-py3-none-any.whl (2.0 MB)\n",
            "\u001b[K     |████████████████████████████████| 2.0 MB 3.9 MB/s \n",
            "\u001b[?25hInstalling collected packages: pydicom\n",
            "Successfully installed pydicom-2.2.2\n"
          ]
        }
      ]
    },
    {
      "cell_type": "code",
      "source": [
        "import os\n",
        "import PIL\n",
        "import cv2\n",
        "import tarfile\n",
        "import numpy as np\n",
        "import pydicom\n",
        "import pandas as pd\n",
        "import matplotlib\n",
        "import matplotlib.pyplot as plt\n",
        "import nibabel as nib\n",
        "import time\n",
        "import random\n",
        "from scipy import signal\n",
        "from glob import glob\n",
        "from PIL import Image\n",
        "from scipy import ndimage as ndi\n",
        "from skimage import data, morphology\n",
        "from skimage.filters import threshold_multiotsu\n",
        "from skimage.filters import rank,gaussian\n",
        "from skimage.feature import peak_local_max\n",
        "from skimage.morphology import disk\n",
        "from skimage.segmentation import watershed\n",
        "from skimage.segmentation import mark_boundaries\n",
        "from skimage.measure import label\n",
        "from numpy.core.numeric import zeros_like"
      ],
      "metadata": {
        "id": "WmKyZpFPTtF9"
      },
      "execution_count": 3,
      "outputs": []
    },
    {
      "cell_type": "markdown",
      "source": [
        "###Helper Functions"
      ],
      "metadata": {
        "id": "tRyroMMoVv5E"
      }
    },
    {
      "cell_type": "code",
      "source": [
        "# --------   Contrast Enhancement - Histogram Stretching :\n",
        "# Function to map each intensity level to output intensity level.\n",
        "def pixelVal(pix, r1, s1, r2, s2):\n",
        "    if (0 <= pix and pix <= r1):\n",
        "        return (s1 / r1)*pix\n",
        "    elif (r1 < pix and pix <= r2):\n",
        "        return ((s2 - s1)/(r2 - r1)) * (pix - r1) + s1\n",
        "    else:\n",
        "        return ((255 - s2)/(255 - r2)) * (pix - r2) + s2\n",
        "\n",
        "def contrastEnhance(Im):\n",
        "  # Define parameters.\n",
        "  r1 = 70\n",
        "  s1 = 0\n",
        "  r2 = 150\n",
        "  s2 = 255\n",
        "  # Vectorize the function to apply it to each value in the Numpy array.\n",
        "  pixelVal_vec = np.vectorize(pixelVal)    \n",
        "  # Apply contrast stretching.\n",
        "  contrast_stretched = pixelVal_vec(Im, r1, s1, r2, s2)\n",
        "  return contrast_stretched"
      ],
      "metadata": {
        "id": "zwClOmLmV1R7"
      },
      "execution_count": 4,
      "outputs": []
    },
    {
      "cell_type": "code",
      "source": [
        "def generate_id(number):\n",
        "  num_str = str(number)\n",
        "  l = len(num_str)\n",
        "  id= \"\"\n",
        "  for i in range(5-l):\n",
        "    id = id +\"0\"\n",
        "\n",
        "  id = id + num_str\n",
        "  return id"
      ],
      "metadata": {
        "id": "r1yS-O2te2Ux"
      },
      "execution_count": 5,
      "outputs": []
    },
    {
      "cell_type": "markdown",
      "source": [
        "#1. K-Means"
      ],
      "metadata": {
        "id": "C-caKgKaZm3Y"
      }
    },
    {
      "cell_type": "markdown",
      "source": [
        "Segmentation Function"
      ],
      "metadata": {
        "id": "uFS1UCLWamP5"
      }
    },
    {
      "cell_type": "code",
      "source": [
        "def tumour_segment_k_means(Im):\n",
        "\n",
        "  k=5\n",
        "  attempts=10\n",
        "\n",
        "  # Setting the font size for all plots.\n",
        "  plt.rcParams['font.size'] = 9\n",
        "  # The input image.\n",
        "  image = contrastEnhance(Im)\n",
        "\n",
        "  ## applying k means for k clusters\n",
        "  img2=image.reshape((-1,1)) \n",
        "\n",
        "  img2=np.float32(img2)\n",
        "  criteria=(cv2.TERM_CRITERIA_EPS + cv2.TERM_CRITERIA_MAX_ITER, 10, 1.0)\n",
        "\n",
        "  ret,label,center=cv2.kmeans(img2,k,None,criteria,attempts,cv2.KMEANS_RANDOM_CENTERS)\n",
        "\n",
        "  center= np.uint8(center)#convert it into unsigned integer so that we can plot it\n",
        "  res=center[label.flatten()] \n",
        "\n",
        "  res2=res.reshape((image.shape))\n",
        "\n",
        "  #Normalization\n",
        "  res2 = (res2 - np.min(res2))* (255 / (np.max(res2) - np.min(res2))) #sgementation from kmeans\n",
        "\n",
        "  ret,thresh1 = cv2.threshold(res2,250,255,cv2.THRESH_BINARY)\n",
        "  SE = [(0, 0, 1, 1, 1, 0, 0),\n",
        "  (0, 1, 1, 1, 1, 1, 0),\n",
        "  (1, 1, 1, 1, 1, 1, 1),\n",
        "  (1, 1, 1, 1, 1, 1, 1),\n",
        "  (1, 1, 1, 1, 1, 1, 1),\n",
        "  (0, 1, 1, 1, 1, 1, 0),\n",
        "  (0, 0, 1, 1, 1, 0, 0),]\n",
        "   \n",
        "  res = morphology.binary_opening(thresh1, SE)\n",
        "\n",
        "  return res"
      ],
      "metadata": {
        "id": "i-5Tgp3SZsPh"
      },
      "execution_count": 6,
      "outputs": []
    },
    {
      "cell_type": "markdown",
      "source": [
        "#2. OTSU Thresholding & Mathematical Morphology"
      ],
      "metadata": {
        "id": "8Zz0U08bbMtS"
      }
    },
    {
      "cell_type": "markdown",
      "source": [
        "Segmentation Function"
      ],
      "metadata": {
        "id": "kHB-930SbUwI"
      }
    },
    {
      "cell_type": "code",
      "source": [
        "def segment_tumour_otsu_mm(image):\n",
        "  # High pass filtering\n",
        "  hp_filter = np.array([(-1, 2, -1), (0, 0, 0), (1, -2, 1)])\n",
        "  f1 = signal.convolve2d(image, hp_filter, boundary='symm', mode='same')\n",
        "  f1 = f1 + image\n",
        "  f1 = f1.astype(np.float32)\n",
        "\n",
        "  # Denoising (midean filter)\n",
        "  f2 = signal.medfilt2d(f1)\n",
        "  f2 = ((f2/np.max(f2))*255)\n",
        "  f2 = f2.astype(int)\n",
        "\n",
        "  #Multi-Otsu Thresholding\n",
        "\n",
        "  thresholds = threshold_multiotsu(f2, classes=4)\n",
        "  # Using the threshold values, we generate the regions.\n",
        "  regions = np.digitize(f2, bins=thresholds)\n",
        "\n",
        "  # Using the threshold values, we generate the regions.\n",
        "  regions = np.digitize(f2, bins=thresholds)\n",
        "\n",
        "  #Extracting the tumour region\n",
        "  mask = regions==3\n",
        "  mask = mask.astype(int)\n",
        " \n",
        "  SE = [(0, 0, 1, 1, 1, 0, 0),\n",
        "  (0, 1, 1, 1, 1, 1, 0),\n",
        "  (1, 1, 1, 1, 1, 1, 1),\n",
        "  (1, 1, 1, 1, 1, 1, 1),\n",
        "  (1, 1, 1, 1, 1, 1, 1),\n",
        "  (0, 1, 1, 1, 1, 1, 0),\n",
        "  (0, 0, 1, 1, 1, 0, 0),]\n",
        "   \n",
        "  mask = morphology.binary_opening(mask, SE)\n",
        "  return mask"
      ],
      "metadata": {
        "id": "CSZfR6l7cV1J"
      },
      "execution_count": 7,
      "outputs": []
    },
    {
      "cell_type": "markdown",
      "source": [
        "#3. OTSU Thresholding & WATERSHED"
      ],
      "metadata": {
        "id": "KU2D0h2pTDki"
      }
    },
    {
      "cell_type": "markdown",
      "source": [
        "Helper Functions"
      ],
      "metadata": {
        "id": "Ucwj8A7lUEol"
      }
    },
    {
      "cell_type": "code",
      "source": [
        "# --------   Function to get Markers\n",
        "def get_markers(Im_, indices=False):\n",
        "    im_ = gaussian(Im_, sigma=4)\n",
        "    im_ = np.interp(im_, (im_.min(), im_.max()), (0, 1))\n",
        "    grad = rank.gradient(im_[:,:],disk(5)).astype('int')\n",
        "    \n",
        "    return peak_local_max(grad.max()-grad,threshold_rel=0.5, min_distance=7, exclude_border=True, indices=indices),grad\n",
        "\n",
        "# --------   Function to get Descriptors :\n",
        "def get_descr(region):\n",
        "     return [region[:].mean()]       "
      ],
      "metadata": {
        "id": "ymLZAiaFUHor"
      },
      "execution_count": 8,
      "outputs": []
    },
    {
      "cell_type": "markdown",
      "source": [
        "Segmentation function"
      ],
      "metadata": {
        "id": "1PSsWIwTUeOn"
      }
    },
    {
      "cell_type": "code",
      "source": [
        "# --------   Define the Whole Function for 1 image :\n",
        "\n",
        "def segment_tumour_otsu_ws(Image_):\n",
        "  image = contrastEnhance(Image_)\n",
        "\n",
        "  # ---------------------  MULTI OTSU  --------------------------------\n",
        "  thresholds = threshold_multiotsu(image,5)\n",
        "  regions = np.digitize(image, bins=thresholds)\n",
        "\n",
        "  # -------  Mapping the Thresholded image's values to (0, 1)  -----------------\n",
        "  Im_reg_ = np.interp(regions, (regions.min(), regions.max()), (0, 1))\n",
        "\n",
        "  #  -----   WATERSHED  ----------\n",
        "  markers, grad = get_markers(Im_reg_, False)   # Here indices=False as we don't need to show the markers\n",
        "  markers = label(markers)\n",
        "  ws = watershed(grad, markers)\n",
        "\n",
        "  descriptors = np.zeros((ws.max()+1,1))\n",
        "  im_descriptors = np.zeros_like(Im_reg_)  # Image with descriptors\n",
        "  for i in range(ws.min(),ws.max()+1):\n",
        "      descriptors[i] = get_descr(Im_reg_[ws==i])   # For each region, we get the mean value and put it to the image,\n",
        "      im_descriptors[ws==i] = descriptors[i]\n",
        "\n",
        "  # ---------------------  THRESHOLD  --------------------------------\n",
        "  Seg_ = im_descriptors > (im_descriptors.max()-0.1) #(T+0.1)   # Keeping only the parts of the image that are bright enough in respect to the threshold T\n",
        "  Seg__ = np.multiply(Seg_, 1)  # Converting Boolean to {0, 1}\n",
        "\n",
        "  # ---------------------  Morphological Opening  --------------------------------\n",
        "  SE = [[0, 0, 1, 1, 1, 0, 0],\n",
        "      [0, 1, 1, 1, 1, 1, 0],\n",
        "      [1, 1, 1, 1, 1, 1, 1],\n",
        "      [1, 1, 1, 1, 1, 1, 1],\n",
        "      [1, 1, 1, 1, 1, 1, 1],\n",
        "      [0, 1, 1, 1, 1, 1, 0],\n",
        "      [0, 0, 1, 1, 1, 0, 0]]\n",
        "  Op = morphology.binary_opening(Seg__, SE) \n",
        "\n",
        "  return Op"
      ],
      "metadata": {
        "id": "ZxOQq5cWUit9"
      },
      "execution_count": 9,
      "outputs": []
    },
    {
      "cell_type": "markdown",
      "source": [
        "# 4. Gaussian Mixture & EXPECTATION MAXIMIZATION"
      ],
      "metadata": {
        "id": "OLq0Fvx9VBEO"
      }
    },
    {
      "cell_type": "markdown",
      "source": [
        "Helper Functions"
      ],
      "metadata": {
        "id": "0InG4KFZVQey"
      }
    },
    {
      "cell_type": "code",
      "source": [
        "# ------------------------   EM ALGORITHM - Functions  ---------------------\n",
        "# https://github.com/iakovos777/EM-Algorithm-Image-Segmentation/blob/master/EM.py\n",
        "\n",
        "\n",
        "# calculate f(e^f) in order to use logsumexp trick and avoid underflow/overflow\n",
        "def f_logsumexp(x, mean, var, pi):\n",
        "    N = x.shape[0]  # Number of pixels\n",
        "    K = mean.shape[0]  # Number of clusters\n",
        "    trick = np.zeros((N, K))\n",
        "    for k in range(K):  # For each cluster \n",
        "        subtraction = np.subtract(x, mean[k])\n",
        "        arg1 = -1.0 / (2 * var[k]) * np.power(subtraction, 2)\n",
        "        arg2 = -0.5*np.log(2*np.pi*var[k])\n",
        "        arg3 = np.sum(arg2 + arg1, axis=1)  # arg3 = sum[-0.5[((x-mu)²/var²) + log(2.pi.var²)]]\n",
        "        arithmitis = np.log(pi[k]) + arg3  # log N(Xi| mu_i,var_i) the probability of observing a specific observation as a mixture\n",
        "        trick[:, k] = arithmitis  # = log(pi) + sum[-0.5[((x-mu)²/var²) + log(2.pi.var²)]]\n",
        "    # find max of all fk(trick[k]) for each example\n",
        "    m = trick.max(axis=1)  # m = max(trick) = max(f)\n",
        "    m = m.reshape((m.shape[0], 1))\n",
        "    return trick, m\n",
        "\n",
        "\n",
        "def update_gamma(f, m):  # Gamma = P_ic = [pi.N(Xi; mu_i,var_i)] / [sum(pi.N(Xi; mu_i,var_i))]\n",
        "    f = f-m\n",
        "    f = np.exp(f)   # f = exp(log(N(Xi| mu_i,var_i))) = N(Xi| mu_i,var_i)\n",
        "    par = np.sum(f, axis=1)  # par = sum(N(Xi| mu_i,var_i))\n",
        "    par = par.reshape((par.shape[0],1))\n",
        "    result = np.divide(f, par)   \n",
        "    return result\n",
        "\n",
        "\n",
        "# return matrix with dimensions KxD\n",
        "def update_mean(gamma, x):\n",
        "    arith = np.dot(np.transpose(gamma), x)   # = transpose(P_ic).xi\n",
        "    paran = np.sum(gamma, axis=0)  # sum(P_ic)\n",
        "    paran = paran.reshape((paran.shape[0], 1))\n",
        "    result = (arith/paran)+0.0001    # sum[transpose(P_ic).xi] / sum(P_ic)\n",
        "    return result\n",
        "\n",
        "\n",
        "# return vector with dimensions 1xK\n",
        "def update_variance(gamma, x, mean):\n",
        "    D = x.shape[1]\n",
        "    K = mean.shape[0]\n",
        "    arith = np.zeros((K, 1))\n",
        "    for k in range(K):\n",
        "        gamma_k = gamma[:, k]\n",
        "        gamma_k = gamma_k.reshape((gamma_k.shape[0], 1))\n",
        "        subtraction = np.subtract(x, mean[k])   # (xi-mu_i)\n",
        "        # sub = sum[sum[P_ic.(xi-mu_i)²]]\n",
        "        sub = np.sum(np.sum(np.multiply(np.power(subtraction, 2), gamma_k), axis=1))\n",
        "        arith[k] = sub\n",
        "    paran = D * np.sum(gamma, axis=0)   # = D.[sum[P_ic]\n",
        "    paran = paran.reshape((K, 1))  \n",
        "    return arith/paran   # var = sum[sum[P_ic.(xi-mu_i)²]] / D.[sum[P_ic]\n",
        "\n",
        "\n",
        "def update_loglikehood(f, m):\n",
        "    f = f - m   \n",
        "    arg1 = np.sum(np.exp(f), axis=1)  \n",
        "    arg1 = np.log(arg1)   # log(sum[exp(f-m)])\n",
        "    arg1 = arg1.reshape((arg1.shape[0], 1))\n",
        "    arg2 = arg1+m  \n",
        "    return np.sum(arg2, axis=0)  # L = sum[m + log(sum[exp(f-m)])]\n",
        "\n",
        "\n",
        "def init_parameters(D, K):\n",
        "    mean = np.random.rand(K, D)\n",
        "    var = np.random.uniform(low=0.1, high=1, size=K)    \n",
        "    val = 1/K  # Equiprobability\n",
        "    pi = np.full(K, val)  \n",
        "    return mean, var, pi\n",
        "\n",
        "\n",
        "# pi is not np.pi = 3.14.... It's a different variable\n",
        "def EM(x, K, tol):\n",
        "    # counter in order to count iterations and stop after some in order our program doesn't run for an eternity\n",
        "    counter = 1\n",
        "    # num of examples(Here pixels)\n",
        "    N = x.shape[0]\n",
        "    # num of dimensions of each examples(Here Grayscal = 1 canal)\n",
        "    D = x.shape[1]\n",
        "    # init parameters\n",
        "    mean, var, pi = init_parameters(D, K)\n",
        "    # logsumexp trick\n",
        "    f, m = f_logsumexp(x, mean, var, pi)\n",
        "    loglikehood = update_loglikehood(f, m)\n",
        "    while counter <= 100:\n",
        "        # --  E-step\n",
        "        gamma = update_gamma(f, m)  \n",
        "\n",
        "        # --  M-step\n",
        "        # update pi\n",
        "        pi = (np.sum(gamma, axis=0))/N\n",
        "        # update mean\n",
        "        mean = update_mean(gamma, x)\n",
        "        # update variance(var)\n",
        "        var = update_variance(gamma, x, mean)\n",
        "        old_loglikehood = loglikehood\n",
        "        # logsumexp trick\n",
        "        f, m = f_logsumexp(x, mean, var, pi)\n",
        "        loglikehood = update_loglikehood(f, m)\n",
        "        # check if algorithm is correct\n",
        "        if loglikehood-old_loglikehood < 0:\n",
        "            # print('Error found in EM algorithm')\n",
        "            # print('Number of iterations: ', counter)\n",
        "            exit()\n",
        "        # check if the convergence criterion is met\n",
        "        if abs(loglikehood-old_loglikehood) < tol:\n",
        "            # print('Convergence criterion is met')\n",
        "            # print('Total iterations: ', counter)\n",
        "            return mean, gamma\n",
        "        # update 'safety valve' in order to not loop for an eternity\n",
        "        counter += 1\n",
        "    return mean, gamma\n",
        "\n",
        "\n",
        "def error_reconstruction(x, means_of_data):  # Compute Mean Square Error\n",
        "    N = x.shape[0]\n",
        "    x = x*255  # Normalize to [0:255]\n",
        "    x = x.astype(np.uint8)\n",
        "    diff = x-means_of_data\n",
        "    sum1 = np.sqrt(np.sum(np.power(diff, 2)))  # = sqrt(sum[x - mean]²)\n",
        "    error = sum1/N  # error = sqrt(sum[x - mean]²) / N\n",
        "    return error\n",
        "\n",
        "\n",
        "def reconstruct_image(x, mean, gamma, K, height, width):\n",
        "    D = mean.shape[1]\n",
        "    # denormalize values\n",
        "    mean = mean * 255\n",
        "    # set data-type uint8 so every data is in set [0,255]\n",
        "    mean = mean.astype(np.uint8)\n",
        "    max_likelihood = np.argmax(gamma, axis=1)  # 1xN\n",
        "    # matrix that has for each example(pixel) the means of dimensions(R,G,B) of k(=cluster) with highest\n",
        "    # a  posteriori probability gamma. This matrix is our new data(pixels)\n",
        "    means_of_data = np.array([mean[i] for i in max_likelihood])  # NxD\n",
        "    # set data-type uint8 so every data is in set [0,255]\n",
        "    means_of_data = means_of_data.astype(np.uint8)\n",
        "    # calculate error\n",
        "    error = error_reconstruction(x, means_of_data)\n",
        "    # print('Error of reconstruction:', error)\n",
        "    means_of_data = means_of_data.reshape((height, width, D))\n",
        "    #segmented_image = Image.fromarray(means_of_data) #, mode='RGB')\n",
        "    #print(means_of_data.shape)\n",
        "    #plt.imshow(means_of_data[:,:,0], cmap=\"bone\")\n",
        "    # name = 'Segmented_Images\\segmented_image_'+str(K)+'.jpg'\n",
        "    # segmented_image.save(name)\n",
        "    return means_of_data\n",
        "\n",
        "\n",
        "def run(x, K, tol, height, width):\n",
        "    #for K in cluster:\n",
        "        # print('------ Cluster: '+str(K)+' ------')\n",
        "        start_time = time.time()\n",
        "        mean, gamma = EM(x, K, tol)\n",
        "        end_time = time.time()\n",
        "        em_time = end_time-start_time\n",
        "        # print(\"Time of execution of EM for clusters/k = %s  is %s seconds \" % (K, em_time))\n",
        "        Im = reconstruct_image(x, mean, gamma, K, height, width) ##### !!!!!!!!\n",
        "        return Im"
      ],
      "metadata": {
        "id": "rBla58XHVWlo"
      },
      "execution_count": 10,
      "outputs": []
    },
    {
      "cell_type": "markdown",
      "source": [
        "Segmentation Function"
      ],
      "metadata": {
        "id": "tAgCZCv7XHKK"
      }
    },
    {
      "cell_type": "code",
      "source": [
        "def segment_tumour_gm_em(Im):\n",
        "  Im = contrastEnhance(Im)\n",
        "  tolerance = 1e-3\n",
        "  clusters = 5 \n",
        "  # load image as pixel array\n",
        "  data = np.asarray(Im)\n",
        "  # summarize shape of the pixel array\n",
        "  (height, width) = data.shape\n",
        "  max_value = np.amax(data)\n",
        "  D = 1 # D = dimensions of each data (Here R,G,B)\n",
        "  dataset = data.reshape((height*width, D))    # N = number of data set (Here height*width of image)  \n",
        "  # normalize data\n",
        "  dataset = dataset/max_value\n",
        "  I = run(dataset, clusters, tolerance, height, width)  # Excecute the function \n",
        "\n",
        "  image = I[:,:,0]/255\n",
        "  Seg_ = image > (image.max()-0.1)   # Keeping only the parts of the image that are bright enough in respect to the threshold T\n",
        "  Seg__ = np.multiply(Seg_, 1)  # Converting Boolean to {0, 1}\n",
        "  \n",
        "  # Opening :\n",
        "  SE = [[0, 0, 1, 1, 1, 0, 0],\n",
        "      [0, 1, 1, 1, 1, 1, 0],\n",
        "      [1, 1, 1, 1, 1, 1, 1],\n",
        "      [1, 1, 1, 1, 1, 1, 1],\n",
        "      [1, 1, 1, 1, 1, 1, 1],\n",
        "      [0, 1, 1, 1, 1, 1, 0],\n",
        "      [0, 0, 1, 1, 1, 0, 0]]\n",
        "  Op = morphology.binary_opening(Seg__, SE)   \n",
        "  return Op"
      ],
      "metadata": {
        "id": "IVf5WcFZXQ1u"
      },
      "execution_count": 11,
      "outputs": []
    },
    {
      "cell_type": "markdown",
      "source": [
        "# 5. Comparison"
      ],
      "metadata": {
        "id": "TuIAzmfQdPio"
      }
    },
    {
      "cell_type": "markdown",
      "source": [
        "###Evaluation metrics"
      ],
      "metadata": {
        "id": "1M6PTnryiUGf"
      }
    },
    {
      "cell_type": "code",
      "source": [
        "def dice_coef2(y_true, y_pred):\n",
        "    y_true_f = y_true.flatten()\n",
        "    y_pred_f = y_pred.flatten()\n",
        "    union = np.sum(y_true_f) + np.sum(y_pred_f)\n",
        "    if union==0: return 1\n",
        "    intersection = np.sum(y_true_f * y_pred_f)\n",
        "    return 2. * intersection / union"
      ],
      "metadata": {
        "id": "I1UhnbUCh2uM"
      },
      "execution_count": 27,
      "outputs": []
    },
    {
      "cell_type": "code",
      "source": [
        "def sensitivity (seg,ground): \n",
        "    #computs true positive rate\n",
        "    num=np.sum(np.multiply(ground, seg ))\n",
        "    denom=np.sum(ground)\n",
        "    if denom==0:\n",
        "        return 1\n",
        "    else:\n",
        "        return  num/denom"
      ],
      "metadata": {
        "id": "72-d6A_WzhUJ"
      },
      "execution_count": 28,
      "outputs": []
    },
    {
      "cell_type": "code",
      "source": [
        "def specificity (seg,ground): \n",
        "    #computes true negative rate\n",
        "    num=np.sum(np.multiply(ground==0, seg ==0))\n",
        "    denom=np.sum(ground==0)\n",
        "    if denom==0:\n",
        "        return 1\n",
        "    else:\n",
        "        return  num/denom"
      ],
      "metadata": {
        "id": "5pbEa8-dzkkv"
      },
      "execution_count": 29,
      "outputs": []
    },
    {
      "cell_type": "markdown",
      "source": [
        "## Qualitative comparaison"
      ],
      "metadata": {
        "id": "F8BrQIjljdOh"
      }
    },
    {
      "cell_type": "markdown",
      "source": [
        "### - For 1 Image:\n"
      ],
      "metadata": {
        "id": "-aAidqH5qm9E"
      }
    },
    {
      "cell_type": "code",
      "source": [
        "fig, ax = plt.subplots(nrows=1, ncols=6, figsize=(15, 4))\n",
        "img_id = \"00364\" \n",
        "j = 77\n",
        "for n, nii in enumerate([f'/content/drive/MyDrive/BRATS/Data/BraTS2021_{img_id}/BraTS2021_{img_id}_flair.nii.gz']):\n",
        "  try:\n",
        "    image = nib.load(nii).get_fdata()\n",
        "  except FileNotFoundError:\n",
        "    print(f'Image {img_id} does not exist')\n",
        "    continue\n",
        "  curr_im = image[:, :, j]*255/(((image[:, :, j]).max()))\n",
        "  km_seg = tumour_segment_k_means(curr_im)\n",
        "  otsu_mm_seg = segment_tumour_otsu_mm(curr_im)\n",
        "  otsu_ws_seg = segment_tumour_otsu_ws(curr_im)\n",
        "  gm_em_seg = segment_tumour_gm_em(curr_im)\n",
        "  # Plotting the original image\n",
        "  ax[0].imshow(curr_im, cmap='bone')\n",
        "  ax[0].set_title(f'Original {img_id}, Slice {j}')\n",
        "  ax[0].axis('off')\n",
        "  # Plotting the segmentation result\n",
        "  # K-means\n",
        "  ax[2].imshow(km_seg, cmap='bone')\n",
        "  ax[2].set_title('K-means')\n",
        "  ax[2].axis('off')\n",
        "  # OTSU+Morphology\n",
        "  ax[3].imshow(otsu_mm_seg, cmap='bone')\n",
        "  ax[3].set_title('OTSU + Morphology')\n",
        "  ax[3].axis('off')\n",
        "  # OTSU+Watershed\n",
        "  ax[4].imshow(otsu_ws_seg, cmap='bone')\n",
        "  ax[4].set_title('OTSU + Watershed')\n",
        "  ax[4].axis('off')\n",
        "  # Gaussian Mixture+EM\n",
        "  ax[5].imshow(gm_em_seg, cmap='bone')\n",
        "  ax[5].set_title('Gaussian Mixture+EM')\n",
        "  ax[5].axis('off')\n",
        "\n",
        "for n, nii in enumerate([f'/content/drive/MyDrive/BRATS/Data/BraTS2021_{img_id}/BraTS2021_{img_id}_seg.nii.gz']):\n",
        "  try:\n",
        "    gt = nib.load(nii).get_fdata()\n",
        "  except FileNotFoundError:\n",
        "    print(f'Image {img_id} does not exist')\n",
        "    continue\n",
        "  gt = gt[:, :, j]\n",
        "  gt = gt>0\n",
        "  gt = gt.astype(int)\n",
        "  ax[1].imshow(gt, cmap='bone')\n",
        "  ax[1].set_title('GT')\n",
        "  ax[1].axis('off')\n",
        "\n",
        "plt.subplots_adjust()\n",
        "plt.show()"
      ],
      "metadata": {
        "id": "qb_avgeNqrhv",
        "colab": {
          "base_uri": "https://localhost:8080/",
          "height": 260
        },
        "outputId": "4f1df2df-aec6-4a5a-80f3-7998721f537f"
      },
      "execution_count": 30,
      "outputs": [
        {
          "output_type": "stream",
          "name": "stderr",
          "text": [
            "/usr/local/lib/python3.7/dist-packages/ipykernel_launcher.py:14: UserWarning: Possible precision loss converting image of type float64 to uint8 as required by rank filters. Convert manually using skimage.util.img_as_ubyte to silence this warning.\n",
            "  \n",
            "/usr/local/lib/python3.7/dist-packages/ipykernel_launcher.py:7: FutureWarning: indices argument is deprecated and will be removed in version 0.20. To avoid this warning, please do not use the indices argument. Please see peak_local_max documentation for more details.\n",
            "  import sys\n"
          ]
        },
        {
          "output_type": "display_data",
          "data": {
            "image/png": "[encoded data removed]",
            "text/plain": [
              "<Figure size 1080x288 with 6 Axes>"
            ]
          },
          "metadata": {
            "needs_background": "light"
          }
        }
      ]
    },
    {
      "cell_type": "code",
      "source": [
        "methods = [\"K-Means\", \"Multi-Otsu\", \"Watershed\", \"GMM/EM\"]\n",
        "seg = [km_seg, otsu_mm_seg, otsu_ws_seg, gm_em_seg]\n",
        "\n",
        "\n",
        "\n",
        "for i in range(4):\n",
        "  dice = dice_coef2(gt, seg[i])\n",
        "  sens = sensitivity(seg[i], gt)\n",
        "  spec = specificity(seg[i], gt)\n",
        "  print(f'*********{methods[i]}*********')\n",
        "  print(f'Dice = {dice}')\n",
        "  print(f'Sensitivity = {sens}')\n",
        "  print(f'Specificity = {spec}')"
      ],
      "metadata": {
        "colab": {
          "base_uri": "https://localhost:8080/"
        },
        "id": "q0jf1uFcUMWB",
        "outputId": "7447f95c-aad9-4d0f-9916-255bc6e6aa0b"
      },
      "execution_count": 33,
      "outputs": [
        {
          "output_type": "stream",
          "name": "stdout",
          "text": [
            "*********K-Means*********\n",
            "Dice = 0.3717277486910995\n",
            "Sensitivity = 0.2282958199356913\n",
            "Specificity = 1.0\n",
            "*********Multi-Otsu*********\n",
            "Dice = 0.864338866628506\n",
            "Sensitivity = 0.8092175777063236\n",
            "Specificity = 0.9989588296539432\n",
            "*********Watershed*********\n",
            "Dice = 0.7434052757793765\n",
            "Sensitivity = 0.6645230439442658\n",
            "Specificity = 0.9979706001729401\n",
            "*********GMM/EM*********\n",
            "Dice = 0.8656387665198237\n",
            "Sensitivity = 0.842443729903537\n",
            "Specificity = 0.9982882453632625\n"
          ]
        }
      ]
    },
    {
      "cell_type": "markdown",
      "source": [
        "###- For Multiple images"
      ],
      "metadata": {
        "id": "WxUNumWXrlR7"
      }
    },
    {
      "cell_type": "code",
      "source": [
        "samples = [100, 150, 132, 250, 485, 569, 784, 799, 807, 836, 636]\n",
        "for i in samples:\n",
        "  j = random.sample(range(5, 150),1)\n",
        "  j = j[0]\n",
        "  fig, ax = plt.subplots(nrows=1, ncols=6, figsize=(15, 4))\n",
        "  img_id = \"00\" + str(i)\n",
        "  for n, nii in enumerate([f'/content/drive/MyDrive/BRATS/Data/BraTS2021_{img_id}/BraTS2021_{img_id}_flair.nii.gz']):\n",
        "      try:\n",
        "        image = nib.load(nii).get_fdata()\n",
        "      except FileNotFoundError:\n",
        "        print(f'Image {img_id} does not exist')\n",
        "        continue\n",
        "      curr_im = image[:, :, j]*255/(((image[:, :, j]).max()))\n",
        "      km_seg = tumour_segment_k_means(curr_im)\n",
        "      otsu_mm_seg = segment_tumour_otsu_mm(curr_im)\n",
        "      otsu_ws_seg = segment_tumour_otsu_ws(curr_im)\n",
        "      gm_em_seg = segment_tumour_gm_em(curr_im)\n",
        "      # Plotting the original image\n",
        "      ax[0].imshow(curr_im, cmap='bone')\n",
        "      ax[0].set_title(f'Original {img_id}, Slice {j}')\n",
        "      ax[0].axis('off')\n",
        "      # Plotting the segmentation result\n",
        "      # K-means\n",
        "      ax[2].imshow(km_seg, cmap='bone')\n",
        "      ax[2].set_title('K-means')\n",
        "      ax[2].axis('off')\n",
        "      # OTSU+Morphology\n",
        "      ax[3].imshow(otsu_mm_seg, cmap='bone')\n",
        "      ax[3].set_title('OTSU + Morphology')\n",
        "      ax[3].axis('off')\n",
        "      # OTSU+Watershed\n",
        "      ax[4].imshow(otsu_ws_seg, cmap='bone')\n",
        "      ax[4].set_title('OTSU + Watershed')\n",
        "      ax[4].axis('off')\n",
        "      # Gaussian Mixture+EM\n",
        "      ax[5].imshow(gm_em_seg, cmap='bone')\n",
        "      ax[5].set_title('Gaussian Mixture+EM')\n",
        "      ax[5].axis('off')\n",
        "\n",
        "  for n, nii in enumerate([f'/content/drive/MyDrive/BRATS/Data/BraTS2021_{img_id}/BraTS2021_{img_id}_seg.nii.gz']):\n",
        "      try:\n",
        "        gt = nib.load(nii).get_fdata()\n",
        "      except FileNotFoundError:\n",
        "        print(f'Image {img_id} does not exist')\n",
        "        continue\n",
        "      gt = gt[:, :, j]\n",
        "      gt = gt>0\n",
        "      gt = gt.astype(int)\n",
        "      ax[1].imshow(gt, cmap='bone')\n",
        "      ax[1].set_title('GT')\n",
        "      ax[1].axis('off')\n",
        "\n",
        "  plt.subplots_adjust()\n",
        "  plt.show()"
      ],
      "metadata": {
        "id": "X-17frFbmK9H"
      },
      "execution_count": null,
      "outputs": []
    },
    {
      "cell_type": "markdown",
      "source": [
        "## Quantitative Testing"
      ],
      "metadata": {
        "id": "tqIXPGZMeHkD"
      }
    },
    {
      "cell_type": "code",
      "source": [
        "# Create Data Directory\n",
        "if not os.path.isdir(\"/content/drive/MyDrive/BRATS/Data\"):\n",
        "    os.makedirs(\"/content/drive/MyDrive/BRATS/Data\", exist_ok=True)\n",
        "    \n",
        "# Load Competition Training Dataframe\n",
        "train_df = pd.read_csv(\"/content/drive/MyDrive/BRATS/train.csv\")\n",
        "print(len(train_df))\n"
      ],
      "metadata": {
        "colab": {
          "base_uri": "https://localhost:8080/"
        },
        "id": "yuLR-gZUeF4T",
        "outputId": "d9472455-7aa0-4af1-8820-a54f6e1cbca5"
      },
      "execution_count": null,
      "outputs": [
        {
          "output_type": "stream",
          "name": "stdout",
          "text": [
            "577\n"
          ]
        }
      ]
    },
    {
      "cell_type": "code",
      "source": [
        "samples = random.sample(range(0, 100), 10) #choose random images\n",
        "js = random.sample(range(5, 150), 30) #choose random slices\n",
        "\n",
        "print(samples)\n",
        "print(js)"
      ],
      "metadata": {
        "colab": {
          "base_uri": "https://localhost:8080/"
        },
        "id": "qPVx3eSEIMVF",
        "outputId": "ebef30b1-6ca7-490e-c870-5cf74f6afd98"
      },
      "execution_count": null,
      "outputs": [
        {
          "output_type": "stream",
          "name": "stdout",
          "text": [
            "[21, 50, 37, 61, 69, 79, 84, 94, 57, 36]\n",
            "[82, 103, 100, 118, 130, 122, 79, 139, 51, 6, 142, 76, 17, 86, 115, 65, 72, 63, 149, 43, 30, 144, 94, 145, 22, 25, 23, 8, 41, 47]\n"
          ]
        }
      ]
    },
    {
      "cell_type": "code",
      "source": [
        ""
      ],
      "metadata": {
        "id": "KDkD--Mr2VWO"
      },
      "execution_count": null,
      "outputs": []
    },
    {
      "cell_type": "code",
      "source": [
        "# samples = [41, 42, 8, 12, 89, 70, 65, 35, 30, 1]\n",
        "# js = [75, 21, 48, 54, 7, 91, 37, 124, 73, 98, 140, 24, 112, 111, 52, 93, 131, 35, 82, 43, 33, 121, 95, 67, 149, 102, 5, 81, 11, 41]"
      ],
      "metadata": {
        "id": "NvLvkxiII0jw"
      },
      "execution_count": null,
      "outputs": []
    },
    {
      "cell_type": "code",
      "source": [
        "x = 0 # number of slices processed counter\n",
        "km_dice = 0\n",
        "otsu_mm_dice =0\n",
        "otsu_ws_dice = 0\n",
        "gm_em_dice = 0\n",
        "\n",
        "km_sen = 0\n",
        "otsu_mm_sen =0\n",
        "otsu_ws_sen = 0\n",
        "gm_em_sen = 0\n",
        "\n",
        "km_spec = 0\n",
        "otsu_mm_spec =0\n",
        "otsu_ws_spec = 0\n",
        "gm_em_spec = 0\n",
        "\n",
        "# samples = random.sample(range(0, 100), 10) #choose random images\n",
        "# js = random.sample(range(10, 140), 20) #choose random slices\n",
        "for i in samples:\n",
        "  im_id = train_df.loc[i,'BraTS21ID']\n",
        "  print(f'i={i}, im_id={im_id}')\n",
        "  img_id = generate_id(im_id) #generate ID\n",
        "  # Loading the Ground Truth\n",
        "  for n, nii in enumerate([f'/content/drive/MyDrive/BRATS/Data/BraTS2021_{img_id}/BraTS2021_{img_id}_seg.nii.gz']):\n",
        "    try:\n",
        "      gt_t = nib.load(nii).get_fdata() #total GT\n",
        "    except FileNotFoundError:\n",
        "      print(f'Image {img_id} does not exist')\n",
        "      continue\n",
        "  # Segmenting the chosen slices\n",
        "  for n, nii in enumerate([f'/content/drive/MyDrive/BRATS/Data/BraTS2021_{img_id}/BraTS2021_{img_id}_flair.nii.gz']):\n",
        "    try:\n",
        "      image = nib.load(nii).get_fdata()\n",
        "    except FileNotFoundError:\n",
        "      print(f'Image {img_id} does not exist')\n",
        "      continue\n",
        "    for j in js:\n",
        "      print(f'Image {img_id} slice {j}')\n",
        "      if((image[:, :, j]).max()!=0):\n",
        "        curr_im = image[:, :, j]*255/((image[:, :, j]).max())\n",
        "      gt = gt_t[:, :, j]\n",
        "      try:\n",
        "        km_seg = tumour_segment_k_means(curr_im)\n",
        "        otsu_mm_seg = segment_tumour_otsu_mm(curr_im)\n",
        "        otsu_ws_seg = segment_tumour_otsu_ws(curr_im)\n",
        "        gm_em_seg = segment_tumour_gm_em(curr_im)\n",
        "      except ValueError:\n",
        "        continue\n",
        "\n",
        "      # Dice Score \n",
        "      d_km = dice_coef2(gt, km_seg)\n",
        "      d_otsu_mm = dice_coef2(gt, otsu_mm_seg)\n",
        "      d_otsu_ws = dice_coef2(gt, otsu_ws_seg)\n",
        "      d_gm_em = dice_coef2(gt, gm_em_seg)\n",
        "  \n",
        "      km_dice += d_km \n",
        "      otsu_mm_dice += d_otsu_mm\n",
        "      otsu_ws_dice += d_otsu_ws\n",
        "      gm_em_dice += d_gm_em\n",
        "\n",
        "      # Specificity\n",
        "      spec_km = specificity(km_seg, gt)\n",
        "      spec_otsu_mm = specificity(otsu_mm_seg, gt)\n",
        "      spec_otsu_ws = specificity(otsu_ws_seg, gt)\n",
        "      spec_gm_em = specificity(gm_em_seg, gt)\n",
        "\n",
        "      km_spec += spec_km \n",
        "      otsu_mm_spec += spec_otsu_mm\n",
        "      otsu_ws_spec += spec_otsu_ws\n",
        "      gm_em_spec += spec_gm_em\n",
        "\n",
        "      #Sensitivity\n",
        "      sen_km = sensitivity(km_seg, gt)\n",
        "      sen_otsu_mm = sensitivity(otsu_mm_seg, gt)\n",
        "      sen_otsu_ws = sensitivity(otsu_ws_seg, gt)\n",
        "      sen_gm_em = sensitivity(gm_em_seg, gt)\n",
        "\n",
        "      km_sen += sen_km \n",
        "      otsu_mm_sen += sen_otsu_mm\n",
        "      otsu_ws_sen += sen_otsu_ws\n",
        "      gm_em_sen += sen_gm_em\n",
        "      x += 1\n",
        "print(f'x={x}')\n",
        "#Dice\n",
        "dice_avg_km = km_dice/x\n",
        "dice_avg_otsu_mm = otsu_mm_dice/x\n",
        "dice_avg_otsu_ws = otsu_ws_dice/x\n",
        "dice_avg_gm_em = gm_em_dice/x\n",
        "\n",
        "#Specificity\n",
        "spec_avg_km = km_spec/x\n",
        "spec_avg_otsu_mm = otsu_mm_spec/x\n",
        "spec_avg_otsu_ws = otsu_ws_spec/x\n",
        "spec_avg_gm_em = gm_em_spec/x\n",
        "\n",
        "#Sensitivity\n",
        "sen_avg_km = km_sen/x\n",
        "sen_avg_otsu_mm = otsu_mm_sen/x\n",
        "sen_avg_otsu_ws = otsu_ws_sen/x\n",
        "sen_avg_gm_em = gm_em_sen/x\n",
        "\n",
        "\n",
        "#Results\n",
        "print('************ Average Dice Score ***************')\n",
        "print(f'K-means = {dice_avg_km}')\n",
        "print(f'OTSU + Mathematical Morphology = {dice_avg_otsu_mm}')\n",
        "print(f'OTSU + Watershed = {dice_avg_otsu_ws}')\n",
        "print(f'Gaussian Mixture end EM= {dice_avg_gm_em}')\n",
        "\n",
        "print('************ Average Specificity ***************')\n",
        "print(f'K-means = {spec_avg_km}')\n",
        "print(f'OTSU + Mathematical Morphology = {spec_avg_otsu_mm}')\n",
        "print(f'OTSU + Watershed = {spec_avg_otsu_ws}')\n",
        "print(f'Gaussian Mixture end EM= {spec_avg_gm_em}')\n",
        "\n",
        "print('************ Average Sensitivity ***************')\n",
        "print(f'K-means = {sen_avg_km}')\n",
        "print(f'OTSU + Mathematical Morphology = {sen_avg_otsu_mm}')\n",
        "print(f'OTSU + Watershed = {sen_avg_otsu_ws}')\n",
        "print(f'Gaussian Mixture end EM= {sen_avg_gm_em}')\n",
        "\n"
      ],
      "metadata": {
        "id": "LO4e-aQzkI9a"
      },
      "execution_count": null,
      "outputs": []
    },
    {
      "cell_type": "markdown",
      "source": [
        "# Test on an image"
      ],
      "metadata": {
        "id": "QNOL39rwKzg5"
      }
    },
    {
      "cell_type": "code",
      "source": [
        "from PIL import Image, ImageOps\n",
        "\n",
        "#Import image\n",
        "image = Image.open('brain.jpeg')\n",
        "image = ImageOps.grayscale(image)\n",
        "image = np.asarray(image)\n",
        "\n",
        "#segment image\n",
        "seg = tumour_segment_k_means(image)\n",
        "#plot image\n",
        "fig, ax = plt.subplots(nrows=1, ncols=2, figsize=(15, 4))\n",
        "\n",
        "\n",
        "ax[0].imshow(image, cmap='bone')\n",
        "ax[0].set_title('Original')\n",
        "ax[0].axis('off')\n",
        "\n",
        "ax[1].imshow(seg, cmap='bone')\n",
        "ax[1].set_title('segmented')\n",
        "ax[1].axis('off')\n",
        "\n",
        "plt.subplots_adjust()\n",
        "plt.show()"
      ],
      "metadata": {
        "colab": {
          "base_uri": "https://localhost:8080/",
          "height": 262
        },
        "id": "kKUVPDg12W53",
        "outputId": "90c017b4-ffa7-481c-94bb-b6a068fdda00"
      },
      "execution_count": null,
      "outputs": [
        {
          "output_type": "display_data",
          "data": {
            "image/png": "[encoded data removed]",
            "text/plain": [
              "<Figure size 1080x288 with 2 Axes>"
            ]
          },
          "metadata": {
            "needs_background": "light"
          }
        }
      ]
    }
  ]
}